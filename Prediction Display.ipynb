{
 "cells": [
  {
   "cell_type": "code",
   "execution_count": null,
   "metadata": {
    "collapsed": true
   },
   "outputs": [],
   "source": [
    "import os\n",
    "import numpy as np\n",
    "from matplotlib import pyplot as plt\n",
    "from skimage.transform import resize\n",
    "import re\n",
    "%matplotlib inline\n",
    "plt.rcParams['figure.figsize'] = (20.0, 10.0)"
   ]
  },
  {
   "cell_type": "code",
   "execution_count": null,
   "metadata": {
    "scrolled": false
   },
   "outputs": [],
   "source": [
    "prediction_path = \"logs/predictions\"\n",
    "image_path = \"dataset/images/validation\"\n",
    "ground_truth_path = \"dataset/annotations/validation\"\n",
    "ground_truth_prefix = \"label_\"\n",
    "re_im_file_name = re.compile(r\"predict_\\['([\\d_]*)'].*\")\n",
    "\n",
    "for prediction_fname in os.listdir(prediction_path):\n",
    "    predict_im = plt.imread(os.path.join(prediction_path, prediction_fname))\n",
    "    if (np.any(predict_im > 0)):\n",
    "        im_filename = re.match(re_im_file_name, prediction_fname).group(1)\n",
    "        im = plt.imread(os.path.join(image_path, im_filename + '.png'))\n",
    "        annotation = plt.imread(os.path.join(ground_truth_path, ground_truth_prefix + im_filename + '.png'))\n",
    "        f, (ax1, ax2, ax3) = plt.subplots(1, 3)\n",
    "        #f.suptitle(im_filename)\n",
    "        ax1.imshow(im)\n",
    "        ax1.set_title(\"Image\")\n",
    "        ax2.imshow(resize(predict_im, im.shape[:2]), cmap='gray')\n",
    "        ax2.set_title(\"Prediction\")\n",
    "        ax3.imshow(annotation, cmap='gray')\n",
    "        ax3.set_title(\"Ground Truth\")\n",
    "        plt.show()"
   ]
  }
 ],
 "metadata": {
  "kernelspec": {
   "display_name": "Python 2",
   "language": "python",
   "name": "python2"
  },
  "language_info": {
   "codemirror_mode": {
    "name": "ipython",
    "version": 2
   },
   "file_extension": ".py",
   "mimetype": "text/x-python",
   "name": "python",
   "nbconvert_exporter": "python",
   "pygments_lexer": "ipython2",
   "version": "2.7.13"
  }
 },
 "nbformat": 4,
 "nbformat_minor": 2
}
